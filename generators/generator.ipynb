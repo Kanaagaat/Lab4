{
 "cells": [
  {
   "cell_type": "code",
   "execution_count": 1,
   "metadata": {},
   "outputs": [
    {
     "name": "stdout",
     "output_type": "stream",
     "text": [
      "1 4 9 16 25 36 49 64 81 100\n"
     ]
    }
   ],
   "source": [
    "def gener(n):\n",
    "    for i in range(1, n + 1):\n",
    "        yield i*i\n",
    "\n",
    "n = int(input())\n",
    "lst = gener(n)\n",
    "print(*lst)"
   ]
  },
  {
   "cell_type": "code",
   "execution_count": 2,
   "metadata": {},
   "outputs": [
    {
     "name": "stdout",
     "output_type": "stream",
     "text": [
      "2,4,6,8,10\n"
     ]
    }
   ],
   "source": [
    "def gener(n):\n",
    "    for i in range(1, n+1):\n",
    "        if i % 2 == 0:\n",
    "            yield i\n",
    "\n",
    "n = int(input())\n",
    "lst = gener(n)\n",
    "\n",
    "print(*lst, sep = ',')"
   ]
  },
  {
   "cell_type": "code",
   "execution_count": 3,
   "metadata": {},
   "outputs": [
    {
     "name": "stdout",
     "output_type": "stream",
     "text": [
      "\n"
     ]
    }
   ],
   "source": [
    "def gener(n):\n",
    "    for i in range(1, n+1):\n",
    "        if i % 3 == 0 and i % 4 == 0:\n",
    "            yield i\n",
    "\n",
    "n = int(input())\n",
    "\n",
    "lst = gener(n)\n",
    "\n",
    "print(*lst)"
   ]
  },
  {
   "cell_type": "code",
   "execution_count": 5,
   "metadata": {},
   "outputs": [
    {
     "name": "stdout",
     "output_type": "stream",
     "text": [
      "1 4 9 16 25 36 49 64 81 100\n"
     ]
    }
   ],
   "source": [
    "def square(a , b):\n",
    "    for i in range(a, b+1):\n",
    "        yield i*i\n",
    "\n",
    "a , b  = int(input()), int(input())\n",
    "\n",
    "lst = square(a, b)\n",
    "print(*lst)"
   ]
  },
  {
   "cell_type": "code",
   "execution_count": 6,
   "metadata": {},
   "outputs": [
    {
     "name": "stdout",
     "output_type": "stream",
     "text": [
      "10 9 8 7 6 5 4 3 2 1 0\n"
     ]
    }
   ],
   "source": [
    "def gener(n):\n",
    "    for i in range(n , -1, -1):\n",
    "        yield i\n",
    "\n",
    "\n",
    "\n",
    "\n",
    "n = int(input())\n",
    "lst = gener(n)\n",
    "print(*lst)"
   ]
  }
 ],
 "metadata": {
  "kernelspec": {
   "display_name": "Python 3",
   "language": "python",
   "name": "python3"
  },
  "language_info": {
   "codemirror_mode": {
    "name": "ipython",
    "version": 3
   },
   "file_extension": ".py",
   "mimetype": "text/x-python",
   "name": "python",
   "nbconvert_exporter": "python",
   "pygments_lexer": "ipython3",
   "version": "3.11.0"
  }
 },
 "nbformat": 4,
 "nbformat_minor": 2
}
