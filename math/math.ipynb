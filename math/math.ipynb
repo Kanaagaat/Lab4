{
 "cells": [
  {
   "cell_type": "code",
   "execution_count": 3,
   "metadata": {},
   "outputs": [
    {
     "name": "stdout",
     "output_type": "stream",
     "text": [
      "Output radian: 1.1693705988362009\n"
     ]
    }
   ],
   "source": [
    "# degree to raddian\n",
    "import math\n",
    "\n",
    "a = int(input(\"Input degree: \"))\n",
    "pi = math.pi\n",
    "ans =  (pi/180) * a\n",
    "\n",
    "print(f\"Output radian: {ans}\")"
   ]
  },
  {
   "cell_type": "code",
   "execution_count": 7,
   "metadata": {},
   "outputs": [
    {
     "name": "stdout",
     "output_type": "stream",
     "text": [
      "Area off Trapezoid : 27.5 \n"
     ]
    }
   ],
   "source": [
    "# Trapezoid\n",
    "height = int(input(\"Height: \"))\n",
    "bfv = int(input(\"Base, first value:\"))\n",
    "bsv = int(input(\"Base, second value:\"))\n",
    "\n",
    "ans = ((bfv + bsv)/2) * height\n",
    "\n",
    "print(f\"Area off Trapezoid : {ans} \" )"
   ]
  },
  {
   "cell_type": "code",
   "execution_count": 9,
   "metadata": {},
   "outputs": [
    {
     "name": "stdout",
     "output_type": "stream",
     "text": [
      "The area of the polygon is: 43\n"
     ]
    }
   ],
   "source": [
    "#regular polygon.\n",
    "import math\n",
    "ns = int(input(\"Input number of sides: \"))\n",
    "ln = int(input(\"Input the length of a side: \"))\n",
    "pi = math.pi\n",
    "\n",
    "tg = math.tan(pi/ns)\n",
    "ans = round((ln**2 * ns)/(4*tg))\n",
    "\n",
    "print(f\"The area of the polygon is: {ans}\")"
   ]
  },
  {
   "cell_type": "code",
   "execution_count": 8,
   "metadata": {},
   "outputs": [
    {
     "name": "stdout",
     "output_type": "stream",
     "text": [
      "Expected Output: 15.0\n"
     ]
    }
   ],
   "source": [
    "'''Length of base: 5\n",
    "Height of parallelogram: 6\n",
    "Expected Output: 30.0'''\n",
    "\n",
    "\n",
    "import math\n",
    "\n",
    "ln = float(input(\"Length of base: \"))\n",
    "hei = float(input(\"Height of parallelogram: \"))\n",
    "\n",
    "ans = round(ln * hei, 2)\n",
    "\n",
    "print(f\"Expected Output: {ans}\")"
   ]
  }
 ],
 "metadata": {
  "kernelspec": {
   "display_name": "Python 3",
   "language": "python",
   "name": "python3"
  },
  "language_info": {
   "codemirror_mode": {
    "name": "ipython",
    "version": 3
   },
   "file_extension": ".py",
   "mimetype": "text/x-python",
   "name": "python",
   "nbconvert_exporter": "python",
   "pygments_lexer": "ipython3",
   "version": "3.11.0"
  }
 },
 "nbformat": 4,
 "nbformat_minor": 2
}
